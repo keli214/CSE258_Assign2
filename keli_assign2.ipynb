{
 "cells": [
  {
   "cell_type": "code",
   "execution_count": 65,
   "metadata": {},
   "outputs": [],
   "source": [
    "import csv\n",
    "import math\n",
    "import matplotlib.pyplot as plt\n",
    "from collections import defaultdict"
   ]
  },
  {
   "cell_type": "code",
   "execution_count": 23,
   "metadata": {},
   "outputs": [],
   "source": [
    "# This will suppress any warnings, comment out if you'd like to preserve them\n",
    "import warnings\n",
    "warnings.filterwarnings(\"ignore\")"
   ]
  },
  {
   "cell_type": "code",
   "execution_count": 43,
   "metadata": {},
   "outputs": [],
   "source": [
    "def readCSV(path,dataset):\n",
    "  with open(path,newline='\\n') as f:\n",
    "      reader = csv.DictReader(f)\n",
    "      for row in reader:\n",
    "          dataset.append(row)\n",
    "          \n",
    "      "
   ]
  },
  {
   "cell_type": "code",
   "execution_count": 44,
   "metadata": {},
   "outputs": [],
   "source": [
    "raw_recipe_path = '/Users/keli/Desktop/CSE258/assin2/RAW_recipes.csv'\n",
    "recipe_data = []\n",
    "readCSV(raw_recipe_path,recipe_data)"
   ]
  },
  {
   "cell_type": "code",
   "execution_count": 45,
   "metadata": {},
   "outputs": [
    {
     "data": {
      "text/plain": [
       "231637"
      ]
     },
     "execution_count": 45,
     "metadata": {},
     "output_type": "execute_result"
    }
   ],
   "source": [
    "len(recipe_data)"
   ]
  },
  {
   "cell_type": "code",
   "execution_count": 46,
   "metadata": {},
   "outputs": [
    {
     "data": {
      "text/plain": [
       "{'name': 'arriba   baked winter squash mexican style',\n",
       " 'id': '137739',\n",
       " 'minutes': '55',\n",
       " 'contributor_id': '47892',\n",
       " 'submitted': '2005-09-16',\n",
       " 'tags': \"['60-minutes-or-less', 'time-to-make', 'course', 'main-ingredient', 'cuisine', 'preparation', 'occasion', 'north-american', 'side-dishes', 'vegetables', 'mexican', 'easy', 'fall', 'holiday-event', 'vegetarian', 'winter', 'dietary', 'christmas', 'seasonal', 'squash']\",\n",
       " 'nutrition': '[51.5, 0.0, 13.0, 0.0, 2.0, 0.0, 4.0]',\n",
       " 'n_steps': '11',\n",
       " 'steps': \"['make a choice and proceed with recipe', 'depending on size of squash , cut into half or fourths', 'remove seeds', 'for spicy squash , drizzle olive oil or melted butter over each cut squash piece', 'season with mexican seasoning mix ii', 'for sweet squash , drizzle melted honey , butter , grated piloncillo over each cut squash piece', 'season with sweet mexican spice mix', 'bake at 350 degrees , again depending on size , for 40 minutes up to an hour , until a fork can easily pierce the skin', 'be careful not to burn the squash especially if you opt to use sugar or butter', 'if you feel more comfortable , cover the squash with aluminum foil the first half hour , give or take , of baking', 'if desired , season with salt']\",\n",
       " 'description': 'autumn is my favorite time of year to cook! this recipe \\r\\ncan be prepared either spicy or sweet, your choice!\\r\\ntwo of my posted mexican-inspired seasoning mix recipes are offered as suggestions.',\n",
       " 'ingredients': \"['winter squash', 'mexican seasoning', 'mixed spice', 'honey', 'butter', 'olive oil', 'salt']\",\n",
       " 'n_ingredients': '7'}"
      ]
     },
     "execution_count": 46,
     "metadata": {},
     "output_type": "execute_result"
    }
   ],
   "source": [
    "recipe_data[0]"
   ]
  },
  {
   "cell_type": "code",
   "execution_count": 120,
   "metadata": {},
   "outputs": [],
   "source": [
    "nutritionPerid = defaultdict(list)\n",
    "recipePerid = defaultdict(list)\n",
    "for d in recipe_data:\n",
    "    id,nutrition,name,tags = d['id'],d['nutrition'][1:-1],d['name'],d['tags']\n",
    "    nutritionPerid[id] = [v.strip() for v in nutrition.split(',')]\n",
    "    recipePerid[id] = [name,tags]"
   ]
  },
  {
   "cell_type": "markdown",
   "metadata": {},
   "source": [
    "#### Nutrition Variable\n",
    "- [calories(#),total fat(PDV),sugar(PDV),sodium(PDV),protein(PDV),saturated fat(PDV),carbohydrates(PDV)]\n",
    "#### Healthy recipe\n",
    "- [< 800, N/A, < 10, < 7, N/A, < 10, N/A]\n"
   ]
  },
  {
   "cell_type": "code",
   "execution_count": 70,
   "metadata": {},
   "outputs": [],
   "source": [
    "maxCalories, maxSugar, maxSFat, maxSodium = 0,0,0,0\n",
    "for id in nutritionPerid:\n",
    "    maxCalories = max(float(nutritionPerid[id][0]),maxCalories)\n",
    "    maxSugar = max(float(nutritionPerid[id][2]),maxSugar)\n",
    "    maxSodium = max(float(nutritionPerid[id][3]),maxSodium)\n",
    "    maxSFat = max(float(nutritionPerid[id][5]),maxSFat)\n",
    "        "
   ]
  },
  {
   "cell_type": "code",
   "execution_count": 71,
   "metadata": {},
   "outputs": [
    {
     "data": {
      "text/plain": [
       "(434360.2, 362729.0, 10395.0, 29338.0)"
      ]
     },
     "execution_count": 71,
     "metadata": {},
     "output_type": "execute_result"
    }
   ],
   "source": [
    "maxCalories, maxSugar, maxSFat, maxSodium"
   ]
  },
  {
   "cell_type": "code",
   "execution_count": 131,
   "metadata": {},
   "outputs": [],
   "source": [
    "calories= ['<=200', '<=400', '<=600', '<=800', '<=1000', '>1000']\n",
    "num_recipe_calories = [0,0,0,0,0,0] \n",
    "for id in nutritionPerid:\n",
    "    cal = float(nutritionPerid[id][0])\n",
    "    if 0 < cal <= 200:\n",
    "        num_recipe_calories[0] += 1\n",
    "    elif 200 < cal <= 400:\n",
    "        num_recipe_calories[1] += 1\n",
    "    elif 400 < cal <= 600:\n",
    "        num_recipe_calories[2] += 1\n",
    "    elif 600 < cal <= 800:\n",
    "        num_recipe_calories[3] += 1\n",
    "    elif 800 < cal <= 1000:\n",
    "        num_recipe_calories[4] += 1\n",
    "    else:\n",
    "        num_recipe_calories[5] += 1"
   ]
  },
  {
   "cell_type": "code",
   "execution_count": 132,
   "metadata": {},
   "outputs": [
    {
     "data": {
      "image/png": "[encoded data removed]",
      "text/plain": [
       "<Figure size 720x360 with 1 Axes>"
      ]
     },
     "metadata": {
      "needs_background": "light"
     },
     "output_type": "display_data"
    }
   ],
   "source": [
    "fig = plt.figure(figsize=(10,5))\n",
    "plt.bar(calories,num_recipe_calories,width=0.4)\n",
    "plt.xlabel(\"Calories of recipe\")\n",
    "plt.ylabel(\"Number of recipes\")\n",
    "plt.title(\"Number of recipes at each calories level\")\n",
    "plt.show()"
   ]
  },
  {
   "cell_type": "code",
   "execution_count": 96,
   "metadata": {},
   "outputs": [],
   "source": [
    "sugars= ['<=10', '<=20', '<=30', '<=40', '<=50', '>50']\n",
    "num_recipe_sugar = [0,0,0,0,0,0] \n",
    "for id in nutritionPerid:\n",
    "    sug = float(nutritionPerid[id][2])\n",
    "    if 0 < sug <= 10:\n",
    "        num_recipe_sugar[0] += 1\n",
    "    elif 10 < sug <= 20:\n",
    "        num_recipe_sugar[1] += 1\n",
    "    elif 20 < sug <= 30:\n",
    "        num_recipe_sugar[2] += 1\n",
    "    elif 30 < sug <= 40:\n",
    "        num_recipe_sugar[3] += 1\n",
    "    elif 40 < sug <= 50:\n",
    "        num_recipe_sugar[4] += 1\n",
    "    else:\n",
    "        num_recipe_sugar[5] += 1"
   ]
  },
  {
   "cell_type": "code",
   "execution_count": 97,
   "metadata": {},
   "outputs": [
    {
     "data": {
      "image/png": "[encoded data removed]",
      "text/plain": [
       "<Figure size 720x360 with 1 Axes>"
      ]
     },
     "metadata": {
      "needs_background": "light"
     },
     "output_type": "display_data"
    }
   ],
   "source": [
    "fig = plt.figure(figsize=(10,5))\n",
    "plt.bar(sugars,num_recipe_sugar,width=0.4)\n",
    "plt.xlabel(\"Sugar(PDV)\")\n",
    "plt.ylabel(\"Number of recipes\")\n",
    "plt.title(\"Number of recipes at each sugar level\")\n",
    "plt.show()"
   ]
  },
  {
   "cell_type": "code",
   "execution_count": 98,
   "metadata": {},
   "outputs": [],
   "source": [
    "sodiums = ['<=7', '<=14', '<=28', '<=35', '<=42', '>42']\n",
    "num_recipe_sodiums = [0,0,0,0,0,0] \n",
    "for id in nutritionPerid:\n",
    "    sod = float(nutritionPerid[id][3])\n",
    "    if 0 < sod <= 7:\n",
    "        num_recipe_sodiums[0] += 1\n",
    "    elif 7 < sod <= 14:\n",
    "        num_recipe_sodiums[1] += 1\n",
    "    elif 14 < sod <= 28:\n",
    "        num_recipe_sodiums[2] += 1\n",
    "    elif 28 < sod <= 35:\n",
    "        num_recipe_sodiums[3] += 1\n",
    "    elif 35 < sod <= 42:\n",
    "        num_recipe_sodiums[4] += 1\n",
    "    else:\n",
    "        num_recipe_sodiums[5] += 1"
   ]
  },
  {
   "cell_type": "code",
   "execution_count": 99,
   "metadata": {},
   "outputs": [
    {
     "data": {
      "image/png": "[encoded data removed]",
      "text/plain": [
       "<Figure size 720x360 with 1 Axes>"
      ]
     },
     "metadata": {
      "needs_background": "light"
     },
     "output_type": "display_data"
    }
   ],
   "source": [
    "fig = plt.figure(figsize=(10,5))\n",
    "plt.bar(sodiums,num_recipe_sodiums,width=0.4)\n",
    "plt.xlabel(\"Sodium(PDV)\")\n",
    "plt.ylabel(\"Number of recipes\")\n",
    "plt.title(\"Number of recipes at each sodium level\")\n",
    "plt.show()"
   ]
  },
  {
   "cell_type": "code",
   "execution_count": 100,
   "metadata": {},
   "outputs": [],
   "source": [
    "satFat = ['<=10', '<=20', '<=30', '<=40', '<=50', '>50']\n",
    "num_recipe_satFat = [0,0,0,0,0,0] \n",
    "for id in nutritionPerid:\n",
    "    satF = float(nutritionPerid[id][5])\n",
    "    if 0 < satF <= 10:\n",
    "        num_recipe_satFat[0] += 1\n",
    "    elif 10 < satF <= 20:\n",
    "        num_recipe_satFat[1] += 1\n",
    "    elif 20 < satF <= 30:\n",
    "        num_recipe_satFat[2] += 1\n",
    "    elif 30 < satF <= 40:\n",
    "        num_recipe_satFat[3] += 1\n",
    "    elif 40 < satF <= 50:\n",
    "        num_recipe_satFat[4] += 1\n",
    "    else:\n",
    "        num_recipe_satFat[5] += 1"
   ]
  },
  {
   "cell_type": "code",
   "execution_count": 101,
   "metadata": {},
   "outputs": [
    {
     "data": {
      "image/png": "[encoded data removed]",
      "text/plain": [
       "<Figure size 720x360 with 1 Axes>"
      ]
     },
     "metadata": {
      "needs_background": "light"
     },
     "output_type": "display_data"
    }
   ],
   "source": [
    "fig = plt.figure(figsize=(10,5))\n",
    "plt.bar(satFat,num_recipe_satFat,width=0.4)\n",
    "plt.xlabel(\"Saturated Fat(PDV)\")\n",
    "plt.ylabel(\"Number of recipes\")\n",
    "plt.title(\"Number of recipes at each saturated fat level\")\n",
    "plt.show()"
   ]
  },
  {
   "cell_type": "code",
   "execution_count": 123,
   "metadata": {},
   "outputs": [],
   "source": [
    "typesRecipe = ['healthy','unhealthy']\n",
    "num_recipe_heath = [0,0]\n",
    "healthy_recipes = []\n",
    "for id in nutritionPerid:\n",
    "    cal, sugar, sod, satF = float(nutritionPerid[id][0]), float(nutritionPerid[id][2]), float(nutritionPerid[id][3]), float(nutritionPerid[id][5])\n",
    "    if cal < 700 and sugar < 10 and sod < 10 and satF < 10:\n",
    "        num_recipe_heath[0] += 1\n",
    "        healthy_recipes.append(recipePerid[id])\n",
    "    else:\n",
    "        num_recipe_heath[1] += 1\n"
   ]
  },
  {
   "cell_type": "code",
   "execution_count": 124,
   "metadata": {},
   "outputs": [
    {
     "data": {
      "image/png": "[encoded data removed]",
      "text/plain": [
       "<Figure size 720x360 with 1 Axes>"
      ]
     },
     "metadata": {
      "needs_background": "light"
     },
     "output_type": "display_data"
    }
   ],
   "source": [
    "fig = plt.figure(figsize=(10,5))\n",
    "plt.bar(typesRecipe,num_recipe_heath,width=0.4)\n",
    "plt.xlabel(\"Types of recipe\")\n",
    "plt.ylabel(\"Number of recipes\")\n",
    "plt.title(\"Healthy vs. Unhealthy\")\n",
    "plt.show()"
   ]
  },
  {
   "cell_type": "code",
   "execution_count": 133,
   "metadata": {},
   "outputs": [
    {
     "data": {
      "text/plain": [
       "['calm your nerves  tonic',\n",
       " \"['15-minutes-or-less', 'time-to-make', 'preparation', 'easy', 'number-of-servings']\"]"
      ]
     },
     "execution_count": 133,
     "metadata": {},
     "output_type": "execute_result"
    }
   ],
   "source": [
    "healthy_recipes[0]"
   ]
  },
  {
   "cell_type": "code",
   "execution_count": 116,
   "metadata": {},
   "outputs": [
    {
     "data": {
      "text/plain": [
       "0.05755557186459849"
      ]
     },
     "execution_count": 116,
     "metadata": {},
     "output_type": "execute_result"
    }
   ],
   "source": [
    "num_recipe_heath[0]/sum(num_recipe_heath)"
   ]
  },
  {
   "cell_type": "code",
   "execution_count": null,
   "metadata": {},
   "outputs": [],
   "source": []
  }
 ],
 "metadata": {
  "kernelspec": {
   "display_name": "Python 3.8.12 ('tensorflow')",
   "language": "python",
   "name": "python3"
  },
  "language_info": {
   "codemirror_mode": {
    "name": "ipython",
    "version": 3
   },
   "file_extension": ".py",
   "mimetype": "text/x-python",
   "name": "python",
   "nbconvert_exporter": "python",
   "pygments_lexer": "ipython3",
   "version": "3.8.12"
  },
  "orig_nbformat": 4,
  "vscode": {
   "interpreter": {
    "hash": "bb399849613fdb590980e0416b27397ef49cf9c9b50078a4ff5b3657da0d161b"
   }
  }
 },
 "nbformat": 4,
 "nbformat_minor": 2
}
